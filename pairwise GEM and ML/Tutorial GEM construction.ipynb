{
 "cells": [
  {
   "cell_type": "markdown",
   "metadata": {},
   "source": [
    "## Predicting Patient-specific Disease states by combining Pairwise Modelling and Machine Learning "
   ]
  },
  {
   "cell_type": "markdown",
   "metadata": {},
   "source": [
    "Tutorial to construct the GEM model in the paper \"Predicting Patient-specific Disease states by combining Pairwise Modelling and Machine Learning \" by Chaimaa Tarzi and collegues. "
   ]
  },
  {
   "cell_type": "markdown",
   "metadata": {},
   "source": [
    "### 1) Generation of the metabolic models"
   ]
  },
  {
   "cell_type": "markdown",
   "metadata": {},
   "source": [
    "Command lines for the creation of two example microbial species retrieved from the github page."
   ]
  },
  {
   "cell_type": "markdown",
   "metadata": {},
   "source": [
    "!carve --dna SRR12328886_bin.3.fa --universe grampos --fbc2 -o SRR12328886_bin_3_fbc2.xml\n",
    "\n",
    "!carve --dna SRR12328886_bin.10.fa --universe grampos --fbc2 -o SRR12328886_bin_10_fbc2.xml"
   ]
  },
  {
   "cell_type": "markdown",
   "metadata": {},
   "source": [
    "## MEMOTE test suite report"
   ]
  },
  {
   "cell_type": "markdown",
   "metadata": {},
   "source": [
    "### 2) The first step is to get a report from the memote using consensus tests from four general areas: annotation, basic tests, biomass reaction, and stoichiometry"
   ]
  },
  {
   "cell_type": "code",
   "execution_count": 16,
   "metadata": {},
   "outputs": [
    {
     "name": "stdout",
     "output_type": "stream",
     "text": [
      "clostridiales_random.xml\n",
      "archaea_random.xml\n"
     ]
    },
    {
     "data": {
      "text/plain": [
       "[('clostridiales_random.xml', 'archaea_random.xml')]"
      ]
     },
     "execution_count": 16,
     "metadata": {},
     "output_type": "execute_result"
    }
   ],
   "source": [
    "!memote report snapshot --filename \"report_SRR12328886_bin_3_fbc2.html\" path/to/SRR12328886_bin_3_fbc2.xml\n",
    "!memote report snapshot --filename \"report_SRR12328886_bin_3_fbc2.html\" path/to/SRR12328886_bin_10_fbc2.xml"
   ]
  },
  {
   "cell_type": "markdown",
   "metadata": {},
   "source": [
    "### 3) Curation of the model using ModelPolisher"
   ]
  },
  {
   "cell_type": "markdown",
   "metadata": {},
   "source": [
    "### 3a) The command (in ModelPolisher/ directory) to run ModelPolisher. Then the service docker start initiates Docker as a service using the system’s upstart configuration file"
   ]
  },
  {
   "cell_type": "code",
   "execution_count": 21,
   "metadata": {},
   "outputs": [
    {
     "name": "stdout",
     "output_type": "stream",
     "text": [
      "cannot assign objective to a missing model\n"
     ]
    }
   ],
   "source": [
    "cd path/to/ModelPolisher\n",
    "echo \"DOCKER_OPTS=\\\"\\$DOCKER_OPTS --registry-mirror=http://<my-docker-mirror-host>\\\"\" | sudo tee -a /etc/default/docker\n",
    "sudo service docker restart"
   ]
  },
  {
   "cell_type": "markdown",
   "metadata": {},
   "source": [
    "### 3b) Run ModelPolisher "
   ]
  },
  {
   "cell_type": "code",
   "execution_count": 22,
   "metadata": {},
   "outputs": [
    {
     "name": "stdout",
     "output_type": "stream",
     "text": [
      "cannot assign objective to a missing model\n"
     ]
    }
   ],
   "source": [
    "!sudo docker-compose run -v /models/polisher java -jar /ModelPolisher-2.1-beta.jar --input=/models/SRR12328886_bin_3_fbc2.xml --output=/models/output/polished_SRR12328886_bin_3_fbc2.xml --annotate-with-bigg=true --add-adb-annotations=true --output-combine=true\n",
    "!sudo docker-compose run -v /models/polisher java -jar /ModelPolisher-2.1-beta.jar --input=/models/SRR12328886_bin_10_fbc2.xml --output=/models/output/polished_SRR12328886_bin_10_fbc2.xml --annotate-with-bigg=true --add-adb-annotations=true --output-combine=true"
   ]
  }
 ],
 "metadata": {
  "kernelspec": {
   "display_name": "Python 3 (ipykernel)",
   "language": "python",
   "name": "python3"
  },
  "language_info": {
   "codemirror_mode": {
    "name": "ipython",
    "version": 3
   },
   "file_extension": ".py",
   "mimetype": "text/x-python",
   "name": "python",
   "nbconvert_exporter": "python",
   "pygments_lexer": "ipython3",
   "version": "3.9.13"
  }
 },
 "nbformat": 4,
 "nbformat_minor": 2
}
